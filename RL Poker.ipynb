{
 "cells": [
  {
   "cell_type": "markdown",
   "id": "efd21e21",
   "metadata": {},
   "source": [
    "# Imports"
   ]
  },
  {
   "cell_type": "code",
   "execution_count": 7,
   "id": "7b90ca16",
   "metadata": {},
   "outputs": [],
   "source": [
    "import torch\n",
    "import numpy\n",
    "import random\n",
    "from treys import Deck\n",
    "from treys import Card\n",
    "from treys import Evaluator\n",
    "import matplotlib\n",
    "import matplotlib.pyplot as plt\n",
    "from collections import deque\n",
    "import tensorflow as tf\n",
    "from tensorflow import keras"
   ]
  },
  {
   "cell_type": "markdown",
   "id": "f0a1bc7c",
   "metadata": {},
   "source": [
    "#  Agent Implementation"
   ]
  },
  {
   "cell_type": "code",
   "execution_count": 1,
   "id": "22b888d2",
   "metadata": {},
   "outputs": [],
   "source": [
    "class DnqAgent:\n",
    "    self.evaluator_agent = Evaluator()\n",
    "    self.gamma = 0.95\n",
    "    self.epsilon = 1.0\n",
    "    self.epsilon_decay = 0.995\n",
    "    self.epsilon_min = 0.001\n",
    "    self.learning_rate = 0.4\n",
    "    self.oponent_model = self._bulild_opponent_model()\n",
    "    \n",
    "    self.hand_power = self._peek()\n",
    "    \n",
    "    \n",
    "    def _peek(hand,table):\n",
    "        return 1-(evaluator_agent.evaluate(table, hand)-1)/7462\n",
    "        \n",
    "    \n",
    "    def _bulild_opponent_model(self):\n",
    "        model = tf.keras.models.Sequential()\n",
    "        \n",
    "        model.tf.keras.layers.InputLayer(input_shape=(16,))\n",
    "        model.tf.keras.layers.Add(Dense(4,activation = \"sigmoid\"))\n",
    "        model.tf.keras.layers.Add(Dense(3,activation = \"sigmoid\"))\n",
    "        \n",
    "        model.compile(loss = \"mse\",optimizer = Adam(lr.self.leaning_rate))\n",
    "        \n",
    "        return model\n",
    "    \n",
    "    #memorie a ultimelor x actiuni ale oponentului /structura exacta = ?\n",
    "    #self.opponent_memory\n",
    "    \n",
    "    \n",
    "    \n",
    "        \n",
    "    \n",
    "    \n",
    "    \n",
    "    "
   ]
  },
  {
   "cell_type": "code",
   "execution_count": null,
   "id": "e06b7629",
   "metadata": {},
   "outputs": [],
   "source": [
    "chips1 = 100\n",
    "chips2 = 100\n",
    "blind1 = 1\n",
    "blind2 = 2\n",
    "Agent = DnqAgent()\n",
    "#intializari\n",
    "def Game(Agent,chips1,chips2):\n",
    "    deck = Deck()\n",
    "    deck.shuffle()\n",
    "    my_hand=deck.draw(2)\n",
    "    agent_hand=deck.draw(2)\n",
    "    pot = blind1+blind2\n",
    "    pot1 = 0\n",
    "    pot2 = 0\n",
    "    chips1 = chips1-blind1\n",
    "    chips2 = chips2-blind2\n",
    "    bet1 = 0\n",
    "    bet2 = 0\n",
    "    table = []\n",
    "    Agent._peek(hand,table)\n",
    "    print(list(Card.int_to_pretty_str(my_hand[i]) for i in range(2)))\n",
    "    \n",
    "    while true:\n",
    "        print(\"Selectati o actiune 1-fold,2-check,3-raise\")\n",
    "        action = int(input())\n",
    "        if action ==1:\n",
    "            chips2 = chips2+pot\n",
    "            blind1,blind2=blind2,blind1\n",
    "            return pot\n",
    "        elif action ==2:\n",
    "            if pot2-pot1>0:\n",
    "                chips1 = chips1-(pot2-pot1)\n",
    "                pot = pot+(pot2-pot1)\n",
    "                pot1=pot2\n",
    "            #if agent.decizie() = 1 return -pot,2 nex step,3 revine la pariere\n",
    "            \n",
    "                \n",
    "            \n",
    "            \n",
    "            \n",
    "    \n",
    "    \n",
    "    \n",
    "    table = deck.draw(5)\n",
    "    print(list(Card.int_to_pretty_str(table[i]) for i in range(5)))\n",
    "    "
   ]
  },
  {
   "cell_type": "markdown",
   "id": "7cddd3b7",
   "metadata": {},
   "source": [
    "#  Agent in action"
   ]
  },
  {
   "cell_type": "code",
   "execution_count": 30,
   "id": "050538b8",
   "metadata": {
    "scrolled": false
   },
   "outputs": [
    {
     "name": "stdout",
     "output_type": "stream",
     "text": [
      "['[4\\x1b[31m♥\\x1b[0m]', '[Q\\x1b[31m♦\\x1b[0m]']\n",
      "['[8♣]', '[9\\x1b[31m♥\\x1b[0m]']\n",
      "['[2\\x1b[31m♦\\x1b[0m]', '[4\\x1b[31m♥\\x1b[0m]', '[A\\x1b[31m♦\\x1b[0m]', '[6\\x1b[31m♥\\x1b[0m]', '[J\\x1b[31m♦\\x1b[0m]']\n",
      "========== FLOP ==========\n",
      "Player 1 hand = Pair, percentage rank among all hands = 0.4773519163763066\n",
      "Player 2 hand = High Card, percentage rank among all hands = 0.056553202894666255\n",
      "Player 1 hand is currently winning.\n",
      "\n",
      "========== TURN ==========\n",
      "Player 1 hand = Pair, percentage rank among all hands = 0.4803001876172608\n",
      "Player 2 hand = Pair, percentage rank among all hands = 0.39332618600911284\n",
      "Player 1 hand is currently winning.\n",
      "\n",
      "========== RIVER ==========\n",
      "Player 1 hand = Pair, percentage rank among all hands = 0.4807022246046636\n",
      "Player 2 hand = Pair, percentage rank among all hands = 0.39332618600911284\n",
      "\n",
      "========== HAND OVER ==========\n",
      "Player 1 is the winner with a Pair\n",
      "\n"
     ]
    }
   ],
   "source": [
    "#fooling around and testing \n",
    "chips = 100\n",
    "activ = True\n",
    "blind1 = 1\n",
    "blind2 = 2\n",
    "while chips>0 and activ == True:\n",
    "    deck = Deck()\n",
    "    deck.shuffle()\n",
    "    my_hand=deck.draw(2)\n",
    "    agent_hand=deck.draw(2)\n",
    "    agent_bet = blind1\n",
    "    my_bet = blind2\n",
    "    #print(list(Card.int_to_pretty_str(my_hand[i]) for i in range(2)))\n",
    "    print(list(Card.int_to_pretty_str(agent_hand[i]) for i in range(2)))\n",
    "    print(list(Card.int_to_pretty_str(table[i]) for i in range(5)))\n",
    "    evaluator = Evaluator()\n",
    "    table = deck.draw(5)\n",
    "    hands = [my_hand, agent_hand]\n",
    "    evaluator.hand_summary(table, hands)\n",
    "    break\n",
    "    \n",
    "    blind1 , blind2 = blind2 , blind1"
   ]
  },
  {
   "cell_type": "code",
   "execution_count": 5,
   "id": "20a330b5",
   "metadata": {},
   "outputs": [
    {
     "ename": "TypeError",
     "evalue": "'>=' not supported between instances of 'list' and 'int'",
     "output_type": "error",
     "traceback": [
      "\u001b[1;31m---------------------------------------------------------------------------\u001b[0m",
      "\u001b[1;31mTypeError\u001b[0m                                 Traceback (most recent call last)",
      "\u001b[1;32m~\\AppData\\Local\\Temp/ipykernel_2924/4268436529.py\u001b[0m in \u001b[0;36m<module>\u001b[1;34m\u001b[0m\n\u001b[0;32m      5\u001b[0m     \u001b[0magent_hand\u001b[0m\u001b[1;33m=\u001b[0m\u001b[0mdeck\u001b[0m\u001b[1;33m.\u001b[0m\u001b[0mdraw\u001b[0m\u001b[1;33m(\u001b[0m\u001b[1;36m4\u001b[0m\u001b[1;33m)\u001b[0m\u001b[1;33m\u001b[0m\u001b[1;33m\u001b[0m\u001b[0m\n\u001b[0;32m      6\u001b[0m     \u001b[0mevaluator\u001b[0m \u001b[1;33m=\u001b[0m \u001b[0mEvaluator\u001b[0m\u001b[1;33m(\u001b[0m\u001b[1;33m)\u001b[0m\u001b[1;33m\u001b[0m\u001b[1;33m\u001b[0m\u001b[0m\n\u001b[1;32m----> 7\u001b[1;33m     \u001b[0mprint\u001b[0m\u001b[1;33m(\u001b[0m\u001b[0mevaluator\u001b[0m\u001b[1;33m.\u001b[0m\u001b[0mget_rank_class\u001b[0m\u001b[1;33m(\u001b[0m\u001b[0mmy_hand\u001b[0m\u001b[1;33m)\u001b[0m\u001b[1;33m)\u001b[0m\u001b[1;33m\u001b[0m\u001b[1;33m\u001b[0m\u001b[0m\n\u001b[0m\u001b[0;32m      8\u001b[0m     \u001b[0mprint\u001b[0m\u001b[1;33m(\u001b[0m\u001b[0mstr\u001b[0m\u001b[1;33m(\u001b[0m\u001b[1;36m1\u001b[0m\u001b[1;33m-\u001b[0m\u001b[1;33m(\u001b[0m\u001b[0mevaluator\u001b[0m\u001b[1;33m.\u001b[0m\u001b[0mevaluate\u001b[0m\u001b[1;33m(\u001b[0m\u001b[0magent_hand\u001b[0m\u001b[1;33m,\u001b[0m \u001b[0mmy_hand\u001b[0m\u001b[1;33m)\u001b[0m\u001b[1;33m-\u001b[0m\u001b[1;36m1\u001b[0m\u001b[1;33m)\u001b[0m\u001b[1;33m/\u001b[0m\u001b[1;36m7462\u001b[0m\u001b[1;33m)\u001b[0m\u001b[1;33m+\u001b[0m\u001b[1;34m\" from \"\u001b[0m\u001b[1;33m+\u001b[0m\u001b[0mstr\u001b[0m\u001b[1;33m(\u001b[0m\u001b[0mevaluator\u001b[0m\u001b[1;33m.\u001b[0m\u001b[0mevaluate\u001b[0m\u001b[1;33m(\u001b[0m\u001b[0magent_hand\u001b[0m\u001b[1;33m,\u001b[0m \u001b[0mmy_hand\u001b[0m\u001b[1;33m)\u001b[0m\u001b[1;33m)\u001b[0m\u001b[1;33m)\u001b[0m\u001b[1;31m#transformarea puterii mainii in ptrobabilitate,work in progress\u001b[0m\u001b[1;33m\u001b[0m\u001b[1;33m\u001b[0m\u001b[0m\n",
      "\u001b[1;32mD:\\Anaconda\\envs\\tensorflow\\lib\\site-packages\\treys\\evaluator.py\u001b[0m in \u001b[0;36mget_rank_class\u001b[1;34m(self, hr)\u001b[0m\n\u001b[0;32m     93\u001b[0m         \u001b[0mreturned\u001b[0m \u001b[1;32mfrom\u001b[0m \u001b[0mevaluate\u001b[0m\u001b[1;33m.\u001b[0m\u001b[1;33m\u001b[0m\u001b[1;33m\u001b[0m\u001b[0m\n\u001b[0;32m     94\u001b[0m         \"\"\"\n\u001b[1;32m---> 95\u001b[1;33m         \u001b[1;32mif\u001b[0m \u001b[0mhr\u001b[0m \u001b[1;33m>=\u001b[0m \u001b[1;36m0\u001b[0m \u001b[1;32mand\u001b[0m \u001b[0mhr\u001b[0m \u001b[1;33m<=\u001b[0m \u001b[0mLookupTable\u001b[0m\u001b[1;33m.\u001b[0m\u001b[0mMAX_STRAIGHT_FLUSH\u001b[0m\u001b[1;33m:\u001b[0m\u001b[1;33m\u001b[0m\u001b[1;33m\u001b[0m\u001b[0m\n\u001b[0m\u001b[0;32m     96\u001b[0m             \u001b[1;32mreturn\u001b[0m \u001b[0mLookupTable\u001b[0m\u001b[1;33m.\u001b[0m\u001b[0mMAX_TO_RANK_CLASS\u001b[0m\u001b[1;33m[\u001b[0m\u001b[0mLookupTable\u001b[0m\u001b[1;33m.\u001b[0m\u001b[0mMAX_STRAIGHT_FLUSH\u001b[0m\u001b[1;33m]\u001b[0m\u001b[1;33m\u001b[0m\u001b[1;33m\u001b[0m\u001b[0m\n\u001b[0;32m     97\u001b[0m         \u001b[1;32melif\u001b[0m \u001b[0mhr\u001b[0m \u001b[1;33m<=\u001b[0m \u001b[0mLookupTable\u001b[0m\u001b[1;33m.\u001b[0m\u001b[0mMAX_FOUR_OF_A_KIND\u001b[0m\u001b[1;33m:\u001b[0m\u001b[1;33m\u001b[0m\u001b[1;33m\u001b[0m\u001b[0m\n",
      "\u001b[1;31mTypeError\u001b[0m: '>=' not supported between instances of 'list' and 'int'"
     ]
    }
   ],
   "source": [
    "for i in range(1000):\n",
    "    deck = Deck()\n",
    "    deck.shuffle()\n",
    "    my_hand=deck.draw(2)\n",
    "    agent_hand=deck.draw(4)\n",
    "    evaluator = Evaluator()\n",
    "    print(evaluator.get_rank_class(my_hand))\n",
    "    print(str(1-(evaluator.evaluate(agent_hand, my_hand)-1)/7462)+\" from \"+str(evaluator.evaluate(agent_hand, my_hand)))#transformarea puterii mainii in ptrobabilitate,work in progress"
   ]
  },
  {
   "cell_type": "code",
   "execution_count": 6,
   "id": "c6e96f34",
   "metadata": {},
   "outputs": [
    {
     "name": "stdout",
     "output_type": "stream",
     "text": [
      "Help on Evaluator in module treys.evaluator object:\n",
      "\n",
      "class Evaluator(builtins.object)\n",
      " |  Evaluates hand strengths using a variant of Cactus Kev's algorithm:\n",
      " |  http://suffe.cool/poker/evaluator.html\n",
      " |  \n",
      " |  I make considerable optimizations in terms of speed and memory usage, \n",
      " |  in fact the lookup table generation can be done in under a second and \n",
      " |  consequent evaluations are very fast. Won't beat C, but very fast as \n",
      " |  all calculations are done with bit arithmetic and table lookups.\n",
      " |  \n",
      " |  Methods defined here:\n",
      " |  \n",
      " |  __init__(self)\n",
      " |      Initialize self.  See help(type(self)) for accurate signature.\n",
      " |  \n",
      " |  class_to_string(self, class_int)\n",
      " |      Converts the integer class hand score into a human-readable string.\n",
      " |  \n",
      " |  evaluate(self, cards, board)\n",
      " |      This is the function that the user calls to get a hand rank. \n",
      " |      \n",
      " |      Supports empty board, etc very flexible. No input validation \n",
      " |      because that's cycles!\n",
      " |  \n",
      " |  get_five_card_rank_percentage(self, hand_rank)\n",
      " |      Scales the hand rank score to the [0.0, 1.0] range.\n",
      " |  \n",
      " |  get_rank_class(self, hr)\n",
      " |      Returns the class of hand given the hand hand_rank\n",
      " |      returned from evaluate.\n",
      " |  \n",
      " |  hand_summary(self, board, hands)\n",
      " |      Gives a sumamry of the hand with ranks as time proceeds. \n",
      " |      \n",
      " |      Requires that the board is in chronological order for the \n",
      " |      analysis to make sense.\n",
      " |  \n",
      " |  ----------------------------------------------------------------------\n",
      " |  Data descriptors defined here:\n",
      " |  \n",
      " |  __dict__\n",
      " |      dictionary for instance variables (if defined)\n",
      " |  \n",
      " |  __weakref__\n",
      " |      list of weak references to the object (if defined)\n",
      "\n"
     ]
    }
   ],
   "source": [
    "help(Evaluator())"
   ]
  },
  {
   "cell_type": "code",
   "execution_count": null,
   "id": "e5a5594d",
   "metadata": {},
   "outputs": [],
   "source": []
  }
 ],
 "metadata": {
  "kernelspec": {
   "display_name": "Python 3 (ipykernel)",
   "language": "python",
   "name": "python3"
  },
  "language_info": {
   "codemirror_mode": {
    "name": "ipython",
    "version": 3
   },
   "file_extension": ".py",
   "mimetype": "text/x-python",
   "name": "python",
   "nbconvert_exporter": "python",
   "pygments_lexer": "ipython3",
   "version": "3.9.7"
  }
 },
 "nbformat": 4,
 "nbformat_minor": 5
}
