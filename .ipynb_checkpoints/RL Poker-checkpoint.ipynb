{
 "cells": [
  {
   "cell_type": "markdown",
   "id": "efd21e21",
   "metadata": {},
   "source": [
    "# Imports"
   ]
  },
  {
   "cell_type": "code",
   "execution_count": 2,
   "id": "7b90ca16",
   "metadata": {},
   "outputs": [],
   "source": [
    "import torch\n",
    "import numpy\n",
    "import random\n",
    "from treys import Deck\n",
    "from treys import Card\n",
    "from treys import Evaluator\n",
    "import matplotlib\n",
    "import matplotlib.pyplot as plt\n",
    "from collections import deque\n",
    "import tensorflow as tf\n",
    "from tensorflow import keras"
   ]
  },
  {
   "cell_type": "markdown",
   "id": "f0a1bc7c",
   "metadata": {},
   "source": [
    "#  Agent Implementation"
   ]
  },
  {
   "cell_type": "code",
   "execution_count": 1,
   "id": "22b888d2",
   "metadata": {},
   "outputs": [],
   "source": [
    "class DnqAgent:\n",
    "    \n",
    "    self.gamma = 0.95\n",
    "    self.epsilon = 1.0\n",
    "    self.epsilon_decay = 0.995\n",
    "    self.learning_rate = 0.4\n",
    "    self.oponent_model = self._bulild_opponent_model()\n",
    "    \n",
    "    \n",
    "    def _bulild_opponent_model(self):\n",
    "        model = tf.keras.models.Sequential()\n",
    "        \n",
    "        model.tf.keras.layers.InputLayer(input_shape=(19,))\n",
    "        model.tf.keras.layers.Add(Dense(4,activation = \"sigmoid\"))\n",
    "        model.tf.keras.layers.Add(Dense(2,activation = \"sigmoid\"))\n",
    "        \n",
    "        model.compile(loss = \"mse\",optimizer = Adam(lr.self.leaning_rate))\n",
    "        \n",
    "        return model\n",
    "    \n",
    "    #memorie a ultimelor x actiuni ale oponentului /structura exacta = ?\n",
    "    #self.opponent_memory\n",
    "    \n",
    "    \n",
    "    \n",
    "    \n",
    "    \n",
    "    "
   ]
  },
  {
   "cell_type": "markdown",
   "id": "7cddd3b7",
   "metadata": {},
   "source": [
    "#  Agent in action"
   ]
  },
  {
   "cell_type": "code",
   "execution_count": 30,
   "id": "050538b8",
   "metadata": {
    "scrolled": true
   },
   "outputs": [
    {
     "name": "stdout",
     "output_type": "stream",
     "text": [
      "['[4\\x1b[31m♥\\x1b[0m]', '[Q\\x1b[31m♦\\x1b[0m]']\n",
      "['[8♣]', '[9\\x1b[31m♥\\x1b[0m]']\n",
      "['[2\\x1b[31m♦\\x1b[0m]', '[4\\x1b[31m♥\\x1b[0m]', '[A\\x1b[31m♦\\x1b[0m]', '[6\\x1b[31m♥\\x1b[0m]', '[J\\x1b[31m♦\\x1b[0m]']\n",
      "========== FLOP ==========\n",
      "Player 1 hand = Pair, percentage rank among all hands = 0.4773519163763066\n",
      "Player 2 hand = High Card, percentage rank among all hands = 0.056553202894666255\n",
      "Player 1 hand is currently winning.\n",
      "\n",
      "========== TURN ==========\n",
      "Player 1 hand = Pair, percentage rank among all hands = 0.4803001876172608\n",
      "Player 2 hand = Pair, percentage rank among all hands = 0.39332618600911284\n",
      "Player 1 hand is currently winning.\n",
      "\n",
      "========== RIVER ==========\n",
      "Player 1 hand = Pair, percentage rank among all hands = 0.4807022246046636\n",
      "Player 2 hand = Pair, percentage rank among all hands = 0.39332618600911284\n",
      "\n",
      "========== HAND OVER ==========\n",
      "Player 1 is the winner with a Pair\n",
      "\n"
     ]
    }
   ],
   "source": [
    "#fooling around and testing \n",
    "chips = 100\n",
    "activ = True\n",
    "blind1 = 1\n",
    "blind2 = 2\n",
    "while chips>0 and activ == True:\n",
    "    deck = Deck()\n",
    "    deck.shuffle()\n",
    "    my_hand=deck.draw(2)\n",
    "    agent_hand=deck.draw(2)\n",
    "    agent_bet = blind1\n",
    "    my_bet = blind2\n",
    "    print(list(Card.int_to_pretty_str(my_hand[i]) for i in range(2)))\n",
    "    print(list(Card.int_to_pretty_str(agent_hand[i]) for i in range(2)))\n",
    "    print(list(Card.int_to_pretty_str(table[i]) for i in range(5)))\n",
    "    evaluator = Evaluator()\n",
    "    table = deck.draw(5)\n",
    "    hands = [my_hand, agent_hand]\n",
    "    evaluator.hand_summary(table, hands)\n",
    "    break\n",
    "    \n",
    "    blind1 , blind2 = blind2 , blind1"
   ]
  }
 ],
 "metadata": {
  "kernelspec": {
   "display_name": "Python 3 (ipykernel)",
   "language": "python",
   "name": "python3"
  },
  "language_info": {
   "codemirror_mode": {
    "name": "ipython",
    "version": 3
   },
   "file_extension": ".py",
   "mimetype": "text/x-python",
   "name": "python",
   "nbconvert_exporter": "python",
   "pygments_lexer": "ipython3",
   "version": "3.9.7"
  }
 },
 "nbformat": 4,
 "nbformat_minor": 5
}
